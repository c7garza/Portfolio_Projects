{
 "cells": [
  {
   "cell_type": "markdown",
   "metadata": {},
   "source": [
    "# Movie Data Set Exploration"
   ]
  },
  {
   "cell_type": "code",
   "execution_count": 13,
   "metadata": {
    "scrolled": true
   },
   "outputs": [
    {
     "name": "stdout",
     "output_type": "stream",
     "text": [
      "      Unnamed: 0 show_id     type                                    title  \\\n",
      "0              0      s1  TV Show                                       3%   \n",
      "1              1      s2    Movie                                     7:19   \n",
      "2              2      s3    Movie                                    23:59   \n",
      "3              3      s4    Movie                                        9   \n",
      "4              4      s5    Movie                                       21   \n",
      "...          ...     ...      ...                                      ...   \n",
      "7772        7782   s7783    Movie                                     Zozo   \n",
      "7773        7783   s7784    Movie                                   Zubaan   \n",
      "7774        7784   s7785    Movie                        Zulu Man in Japan   \n",
      "7775        7785   s7786  TV Show                    Zumbo's Just Desserts   \n",
      "7776        7786   s7787    Movie  ZZ TOP: THAT LITTLE OL' BAND FROM TEXAS   \n",
      "\n",
      "               director                                               cast  \\\n",
      "0                   NaN  João Miguel, Bianca Comparato, Michel Gomes, R...   \n",
      "1     Jorge Michel Grau  Demián Bichir, Héctor Bonilla, Oscar Serrano, ...   \n",
      "2          Gilbert Chan  Tedd Chan, Stella Chung, Henley Hii, Lawrence ...   \n",
      "3           Shane Acker  Elijah Wood, John C. Reilly, Jennifer Connelly...   \n",
      "4        Robert Luketic  Jim Sturgess, Kevin Spacey, Kate Bosworth, Aar...   \n",
      "...                 ...                                                ...   \n",
      "7772        Josef Fares  Imad Creidi, Antoinette Turk, Elias Gergi, Car...   \n",
      "7773        Mozez Singh  Vicky Kaushal, Sarah-Jane Dias, Raaghav Chanan...   \n",
      "7774                NaN                                            Nasty C   \n",
      "7775                NaN                         Adriano Zumbo, Rachel Khoo   \n",
      "7776           Sam Dunn                                                NaN   \n",
      "\n",
      "                                                country rating  release_year  \\\n",
      "0                                                Brazil  TV-MA          2020   \n",
      "1                                                Mexico  TV-MA          2016   \n",
      "2                                             Singapore      R          2011   \n",
      "3                                         United States  PG-13          2009   \n",
      "4                                         United States  PG-13          2008   \n",
      "...                                                 ...    ...           ...   \n",
      "7772  Sweden, Czech Republic, United Kingdom, Denmar...  TV-MA          2005   \n",
      "7773                                              India  TV-14          2015   \n",
      "7774                                                NaN  TV-MA          2019   \n",
      "7775                                          Australia  TV-PG          2019   \n",
      "7776              United Kingdom, Canada, United States  TV-MA          2019   \n",
      "\n",
      "      year_added  duration_min  number_of_seasons  \\\n",
      "0           2020           NaN                4.0   \n",
      "1           2016          93.0                NaN   \n",
      "2           2018          78.0                NaN   \n",
      "3           2017          80.0                NaN   \n",
      "4           2020         123.0                NaN   \n",
      "...          ...           ...                ...   \n",
      "7772        2020          99.0                NaN   \n",
      "7773        2019         111.0                NaN   \n",
      "7774        2020          44.0                NaN   \n",
      "7775        2020           NaN                1.0   \n",
      "7776        2020          90.0                NaN   \n",
      "\n",
      "                                              listed_in  \\\n",
      "0     International TV Shows, TV Dramas, TV Sci-Fi &...   \n",
      "1                          Dramas, International Movies   \n",
      "2                   Horror Movies, International Movies   \n",
      "3     Action & Adventure, Independent Movies, Sci-Fi...   \n",
      "4                                                Dramas   \n",
      "...                                                 ...   \n",
      "7772                       Dramas, International Movies   \n",
      "7773     Dramas, International Movies, Music & Musicals   \n",
      "7774  Documentaries, International Movies, Music & M...   \n",
      "7775                 International TV Shows, Reality TV   \n",
      "7776                    Documentaries, Music & Musicals   \n",
      "\n",
      "                                            description  \n",
      "0     In a future where the elite inhabit an island ...  \n",
      "1     After a devastating earthquake hits Mexico Cit...  \n",
      "2     When an army recruit is found dead, his fellow...  \n",
      "3     In a postapocalyptic world, rag-doll robots hi...  \n",
      "4     A brilliant group of students become card-coun...  \n",
      "...                                                 ...  \n",
      "7772  When Lebanon's Civil War deprives Zozo of his ...  \n",
      "7773  A scrappy but poor boy worms his way into a ty...  \n",
      "7774  In this documentary, South African rapper Nast...  \n",
      "7775  Dessert wizard Adriano Zumbo looks for the nex...  \n",
      "7776  This documentary delves into the mystique behi...  \n",
      "\n",
      "[7777 rows x 14 columns]\n"
     ]
    }
   ],
   "source": [
    "import pandas as pd \n",
    "\n",
    "data = pd.read_csv (r'C:\\Users\\c7gar\\OneDrive\\Desktop\\Data Analyst Portfolio\\Python\\ISM 4211_Python_Project\\Data.csv')\n",
    "print (data)"
   ]
  },
  {
   "cell_type": "markdown",
   "metadata": {},
   "source": [
    "### Excercise One"
   ]
  },
  {
   "cell_type": "code",
   "execution_count": 15,
   "metadata": {},
   "outputs": [
    {
     "name": "stdout",
     "output_type": "stream",
     "text": [
      "1\n"
     ]
    }
   ],
   "source": [
    "#1 How many movie titles mention the United States?\n",
    "us_titles = data[data['title'].str.contains('United States', na = False) & data['type'].str.contains('Movie', na = False)]\n",
    "\n",
    "print(len(us_titles))\n",
    "        "
   ]
  },
  {
   "cell_type": "code",
   "execution_count": 16,
   "metadata": {},
   "outputs": [
    {
     "name": "stdout",
     "output_type": "stream",
     "text": [
      "4\n"
     ]
    }
   ],
   "source": [
    "#2 How many movie descriptions mention the United States?\n",
    "\n",
    "us_descriptions = data[data['description'].str.contains('United States', na = False) & data['type'].str.contains('Movie', na = False)]\n",
    "\n",
    "print(len(us_descriptions))\n",
    "\n"
   ]
  },
  {
   "cell_type": "code",
   "execution_count": 17,
   "metadata": {},
   "outputs": [
    {
     "name": "stdout",
     "output_type": "stream",
     "text": [
      "2431\n"
     ]
    }
   ],
   "source": [
    "#3 How many movies are from the United States?\n",
    "\n",
    "us_countries = data[data['country'].str.contains('United States', na = False) & data['type'].str.contains('Movie', na = False)]\n",
    "\n",
    "print(len(us_countries))"
   ]
  },
  {
   "cell_type": "markdown",
   "metadata": {},
   "source": [
    "## Excercise Two : \n",
    "\n",
    "### Write a function to receive any name as input, search the director only and return the number of movies/TV shows that contain that name."
   ]
  },
  {
   "cell_type": "code",
   "execution_count": 22,
   "metadata": {},
   "outputs": [
    {
     "name": "stdout",
     "output_type": "stream",
     "text": [
      "Director's name: Christopher\n",
      "There is/are 22 directors named Christopher in this dataset.\n"
     ]
    }
   ],
   "source": [
    "director_name = input(\"Director's name: \").title()\n",
    "director_df = data[data['director'].str.contains(director_name, na = False)]\n",
    "director_count = len(director_df)\n",
    "\n",
    "def director_func(director_name):\n",
    "    if len(director_df) == 0:\n",
    "        print(\"No directors were found with the name: \"+ director_name)\n",
    "    else: return (director_name)\n",
    "\n",
    "print(\"There is/are \" + str(director_count) + \" directors named \" + str(director_func(director_name)) + \" in this dataset.\")"
   ]
  },
  {
   "cell_type": "markdown",
   "metadata": {},
   "source": [
    "## Excercise Three :\n",
    "\n",
    "### Identify the 20 most common words in the description of the TOP TEN LONGEST MOVIES from the dataset. "
   ]
  },
  {
   "cell_type": "code",
   "execution_count": 21,
   "metadata": {},
   "outputs": [
    {
     "name": "stdout",
     "output_type": "stream",
     "text": [
      "        Word  Frequency\n",
      "0          a         11\n",
      "1         to          8\n",
      "2        his          8\n",
      "3        and          5\n",
      "4        the          5\n",
      "5         he          4\n",
      "6         of          4\n",
      "7       from          3\n",
      "8        for          3\n",
      "9          A          2\n",
      "10       has          2\n",
      "11    father          2\n",
      "12      with          2\n",
      "13     marry          2\n",
      "14  marrying          2\n",
      "15     love.          2\n",
      "16        on          2\n",
      "17      true          2\n",
      "18     after          2\n",
      "19     woman          2\n"
     ]
    }
   ],
   "source": [
    "top_ten = data.nlargest(10,[\"duration_min\"])\n",
    "top_ten_desc = top_ten[\"description\"]\n",
    "top_ten_list = list(top_ten_desc)\n",
    "\n",
    "from collections import Counter\n",
    "\n",
    "c = Counter(\" \".join(top_ten_desc).split()).most_common(20)\n",
    "top_20_table = pd.DataFrame(c, columns = ['Word', 'Frequency'])\n",
    "print(top_20_table)"
   ]
  },
  {
   "cell_type": "code",
   "execution_count": null,
   "metadata": {},
   "outputs": [],
   "source": []
  }
 ],
 "metadata": {
  "kernelspec": {
   "display_name": "Python 3",
   "language": "python",
   "name": "python3"
  },
  "language_info": {
   "codemirror_mode": {
    "name": "ipython",
    "version": 3
   },
   "file_extension": ".py",
   "mimetype": "text/x-python",
   "name": "python",
   "nbconvert_exporter": "python",
   "pygments_lexer": "ipython3",
   "version": "3.8.5"
  }
 },
 "nbformat": 4,
 "nbformat_minor": 4
}
